{
  "cells": [
    {
      "cell_type": "code",
      "execution_count": 1,
      "metadata": {
        "colab": {
          "base_uri": "https://localhost:8080/"
        },
        "id": "n7VuirSY-hVw",
        "outputId": "820ec995-bddd-4f7c-e3a0-2d1d430f576a"
      },
      "outputs": [
        {
          "output_type": "stream",
          "name": "stdout",
          "text": [
            "/content/drive/MyDrive/Senior Project\n"
          ]
        }
      ],
      "source": [
        "%cd /content/drive/MyDrive/Senior Project/"
      ]
    },
    {
      "cell_type": "code",
      "execution_count": 2,
      "metadata": {
        "id": "5sD98VhuC3c4"
      },
      "outputs": [],
      "source": [
        "import matplotlib.pyplot as plt\n",
        "import seaborn as sns\n",
        "from google.colab import files\n",
        "\n",
        "import numpy as np\n",
        "import pandas as pd\n",
        "\n",
        "import tensorflow as tf\n",
        "\n",
        "from wordcloud import WordCloud\n",
        "import torch\n",
        "from sklearn.model_selection import train_test_split\n",
        "from sklearn.metrics import confusion_matrix,classification_report,accuracy_score\n",
        "from sklearn.preprocessing import LabelEncoder\n",
        "\n",
        "from tensorflow.keras.utils import to_categorical\n",
        "from tensorflow.keras.preprocessing.text import Tokenizer\n",
        "from tensorflow.keras.preprocessing.sequence import pad_sequences\n",
        "\n",
        "from tensorflow.keras.optimizers import Adam\n",
        "from tensorflow.keras.models import Sequential\n",
        "from tensorflow.keras.callbacks import EarlyStopping\n",
        "from tensorflow.keras.layers import Dense, LSTM, Embedding, Bidirectional,Dropout\n",
        "\n",
        "import re \n",
        "import nltk\n",
        "from nltk.corpus import stopwords\n",
        "from nltk.stem import PorterStemmer\n",
        "\n"
      ]
    },
    {
      "cell_type": "code",
      "execution_count": 3,
      "metadata": {
        "id": "_LyBtr4rF37S"
      },
      "outputs": [],
      "source": [
        "df_train = pd.read_csv(\"train.txt\", header=None,sep=';', names=[\"Text\",\"Emotion\"], encoding='utf-8')\n",
        "df_test = pd.read_csv(\"test.txt\", header=None,sep=';', names=[\"Text\",\"Emotion\"], encoding='utf-8')\n",
        "df_validation = pd.read_csv(\"validation.txt\", header=None,sep=';', names=[\"Text\",\"Emotion\"], encoding='utf-8')"
      ]
    },
    {
      "cell_type": "code",
      "execution_count": 4,
      "metadata": {
        "colab": {
          "base_uri": "https://localhost:8080/",
          "height": 206
        },
        "id": "aCI0miGbGIh6",
        "outputId": "5ea92be7-5aeb-4e86-8c22-8710092b9775"
      },
      "outputs": [
        {
          "output_type": "execute_result",
          "data": {
            "text/plain": [
              "                                                Text  Emotion\n",
              "0                            i didnt feel humiliated  sadness\n",
              "1  i can go from feeling so hopeless to so damned...  sadness\n",
              "2   im grabbing a minute to post i feel greedy wrong    anger\n",
              "3  i am ever feeling nostalgic about the fireplac...     love\n",
              "4                               i am feeling grouchy    anger"
            ],
            "text/html": [
              "\n",
              "  <div id=\"df-1f7d15bf-b47e-41e2-9e52-2dc654386f8a\">\n",
              "    <div class=\"colab-df-container\">\n",
              "      <div>\n",
              "<style scoped>\n",
              "    .dataframe tbody tr th:only-of-type {\n",
              "        vertical-align: middle;\n",
              "    }\n",
              "\n",
              "    .dataframe tbody tr th {\n",
              "        vertical-align: top;\n",
              "    }\n",
              "\n",
              "    .dataframe thead th {\n",
              "        text-align: right;\n",
              "    }\n",
              "</style>\n",
              "<table border=\"1\" class=\"dataframe\">\n",
              "  <thead>\n",
              "    <tr style=\"text-align: right;\">\n",
              "      <th></th>\n",
              "      <th>Text</th>\n",
              "      <th>Emotion</th>\n",
              "    </tr>\n",
              "  </thead>\n",
              "  <tbody>\n",
              "    <tr>\n",
              "      <th>0</th>\n",
              "      <td>i didnt feel humiliated</td>\n",
              "      <td>sadness</td>\n",
              "    </tr>\n",
              "    <tr>\n",
              "      <th>1</th>\n",
              "      <td>i can go from feeling so hopeless to so damned...</td>\n",
              "      <td>sadness</td>\n",
              "    </tr>\n",
              "    <tr>\n",
              "      <th>2</th>\n",
              "      <td>im grabbing a minute to post i feel greedy wrong</td>\n",
              "      <td>anger</td>\n",
              "    </tr>\n",
              "    <tr>\n",
              "      <th>3</th>\n",
              "      <td>i am ever feeling nostalgic about the fireplac...</td>\n",
              "      <td>love</td>\n",
              "    </tr>\n",
              "    <tr>\n",
              "      <th>4</th>\n",
              "      <td>i am feeling grouchy</td>\n",
              "      <td>anger</td>\n",
              "    </tr>\n",
              "  </tbody>\n",
              "</table>\n",
              "</div>\n",
              "      <button class=\"colab-df-convert\" onclick=\"convertToInteractive('df-1f7d15bf-b47e-41e2-9e52-2dc654386f8a')\"\n",
              "              title=\"Convert this dataframe to an interactive table.\"\n",
              "              style=\"display:none;\">\n",
              "        \n",
              "  <svg xmlns=\"http://www.w3.org/2000/svg\" height=\"24px\"viewBox=\"0 0 24 24\"\n",
              "       width=\"24px\">\n",
              "    <path d=\"M0 0h24v24H0V0z\" fill=\"none\"/>\n",
              "    <path d=\"M18.56 5.44l.94 2.06.94-2.06 2.06-.94-2.06-.94-.94-2.06-.94 2.06-2.06.94zm-11 1L8.5 8.5l.94-2.06 2.06-.94-2.06-.94L8.5 2.5l-.94 2.06-2.06.94zm10 10l.94 2.06.94-2.06 2.06-.94-2.06-.94-.94-2.06-.94 2.06-2.06.94z\"/><path d=\"M17.41 7.96l-1.37-1.37c-.4-.4-.92-.59-1.43-.59-.52 0-1.04.2-1.43.59L10.3 9.45l-7.72 7.72c-.78.78-.78 2.05 0 2.83L4 21.41c.39.39.9.59 1.41.59.51 0 1.02-.2 1.41-.59l7.78-7.78 2.81-2.81c.8-.78.8-2.07 0-2.86zM5.41 20L4 18.59l7.72-7.72 1.47 1.35L5.41 20z\"/>\n",
              "  </svg>\n",
              "      </button>\n",
              "      \n",
              "  <style>\n",
              "    .colab-df-container {\n",
              "      display:flex;\n",
              "      flex-wrap:wrap;\n",
              "      gap: 12px;\n",
              "    }\n",
              "\n",
              "    .colab-df-convert {\n",
              "      background-color: #E8F0FE;\n",
              "      border: none;\n",
              "      border-radius: 50%;\n",
              "      cursor: pointer;\n",
              "      display: none;\n",
              "      fill: #1967D2;\n",
              "      height: 32px;\n",
              "      padding: 0 0 0 0;\n",
              "      width: 32px;\n",
              "    }\n",
              "\n",
              "    .colab-df-convert:hover {\n",
              "      background-color: #E2EBFA;\n",
              "      box-shadow: 0px 1px 2px rgba(60, 64, 67, 0.3), 0px 1px 3px 1px rgba(60, 64, 67, 0.15);\n",
              "      fill: #174EA6;\n",
              "    }\n",
              "\n",
              "    [theme=dark] .colab-df-convert {\n",
              "      background-color: #3B4455;\n",
              "      fill: #D2E3FC;\n",
              "    }\n",
              "\n",
              "    [theme=dark] .colab-df-convert:hover {\n",
              "      background-color: #434B5C;\n",
              "      box-shadow: 0px 1px 3px 1px rgba(0, 0, 0, 0.15);\n",
              "      filter: drop-shadow(0px 1px 2px rgba(0, 0, 0, 0.3));\n",
              "      fill: #FFFFFF;\n",
              "    }\n",
              "  </style>\n",
              "\n",
              "      <script>\n",
              "        const buttonEl =\n",
              "          document.querySelector('#df-1f7d15bf-b47e-41e2-9e52-2dc654386f8a button.colab-df-convert');\n",
              "        buttonEl.style.display =\n",
              "          google.colab.kernel.accessAllowed ? 'block' : 'none';\n",
              "\n",
              "        async function convertToInteractive(key) {\n",
              "          const element = document.querySelector('#df-1f7d15bf-b47e-41e2-9e52-2dc654386f8a');\n",
              "          const dataTable =\n",
              "            await google.colab.kernel.invokeFunction('convertToInteractive',\n",
              "                                                     [key], {});\n",
              "          if (!dataTable) return;\n",
              "\n",
              "          const docLinkHtml = 'Like what you see? Visit the ' +\n",
              "            '<a target=\"_blank\" href=https://colab.research.google.com/notebooks/data_table.ipynb>data table notebook</a>'\n",
              "            + ' to learn more about interactive tables.';\n",
              "          element.innerHTML = '';\n",
              "          dataTable['output_type'] = 'display_data';\n",
              "          await google.colab.output.renderOutput(dataTable, element);\n",
              "          const docLink = document.createElement('div');\n",
              "          docLink.innerHTML = docLinkHtml;\n",
              "          element.appendChild(docLink);\n",
              "        }\n",
              "      </script>\n",
              "    </div>\n",
              "  </div>\n",
              "  "
            ]
          },
          "metadata": {},
          "execution_count": 4
        }
      ],
      "source": [
        "df_train.head()"
      ]
    },
    {
      "cell_type": "code",
      "execution_count": 5,
      "metadata": {
        "colab": {
          "base_uri": "https://localhost:8080/"
        },
        "id": "ixzNkNrjGoBs",
        "outputId": "3e0b63c9-44ea-4949-f679-3f601db23365"
      },
      "outputs": [
        {
          "output_type": "stream",
          "name": "stdout",
          "text": [
            "TRAIN DATA (16000, 2)\n",
            "TEST DATA (2000, 2)\n",
            "VALIDATION DATA (2000, 2)\n"
          ]
        }
      ],
      "source": [
        "print(\"TRAIN DATA\", df_train.shape)\n",
        "print(\"TEST DATA\", df_test.shape)\n",
        "print(\"VALIDATION DATA\", df_validation.shape)"
      ]
    },
    {
      "cell_type": "code",
      "execution_count": 6,
      "metadata": {
        "id": "00-BBTWPHB5Z"
      },
      "outputs": [],
      "source": [
        "lb = LabelEncoder()\n",
        "df_train['Emotion'] = lb.fit_transform(df_train['Emotion'])\n",
        "df_test['Emotion'] = lb.fit_transform(df_test['Emotion'])\n",
        "df_validation['Emotion'] = lb.fit_transform(df_validation['Emotion'])"
      ]
    },
    {
      "cell_type": "code",
      "execution_count": 7,
      "metadata": {
        "colab": {
          "base_uri": "https://localhost:8080/"
        },
        "id": "GeXirMQVHUfp",
        "outputId": "7111d0d9-3596-47ea-8176-fda320f8a49e"
      },
      "outputs": [
        {
          "output_type": "stream",
          "name": "stderr",
          "text": [
            "[nltk_data] Downloading package stopwords to /root/nltk_data...\n",
            "[nltk_data]   Unzipping corpora/stopwords.zip.\n"
          ]
        }
      ],
      "source": [
        "nltk.download('stopwords')\n",
        "stopwords = set(nltk.corpus.stopwords.words('english'))"
      ]
    },
    {
      "cell_type": "code",
      "execution_count": 8,
      "metadata": {
        "id": "iem5C-0nHeVy"
      },
      "outputs": [],
      "source": [
        "import json\n",
        "texts = list()\n",
        "for line in df_train[\"Text\"]:\n",
        "\ttexts.append( line )\n",
        "tokenizer = Tokenizer()\n",
        "tokenizer.fit_on_texts(texts)\n",
        "with open( 'word_dict.json' , 'w' ) as file:\n",
        "\tjson.dump( tokenizer.word_index , file )"
      ]
    },
    {
      "cell_type": "code",
      "execution_count": 9,
      "metadata": {
        "id": "ZTJpOWxvY0sw"
      },
      "outputs": [],
      "source": [
        "vocabSize = 11000\n",
        "from tensorflow.keras.preprocessing.text import one_hot\n",
        "def text_cleaning(df, column):\n",
        "    \"\"\"Removing unrelevent chars, Stemming and padding\"\"\"\n",
        "    stemmer = PorterStemmer()\n",
        "    corpus = []\n",
        "    \n",
        "    for text in df[column]:\n",
        "        text = re.sub(\"[^a-zA-Z]\", \" \", text)\n",
        "        text = text.lower()\n",
        "        text = text.split()\n",
        "        text = [stemmer.stem(word) for word in text if word not in stopwords]\n",
        "        text = \" \".join(text)\n",
        "        corpus.append(text)\n",
        "    one_hot_word = [one_hot(input_text=word, n=vocabSize) for word in corpus]\n",
        "    pad = pad_sequences(sequences=one_hot_word,maxlen=max_len,padding='pre')\n",
        "    print(pad.shape)\n",
        "    return pad"
      ]
    },
    {
      "cell_type": "code",
      "execution_count": 10,
      "metadata": {
        "colab": {
          "base_uri": "https://localhost:8080/"
        },
        "id": "K7HBBfaSY0m2",
        "outputId": "5db8119d-4f09-492b-b646-0fad003ac2da"
      },
      "outputs": [
        {
          "output_type": "stream",
          "name": "stdout",
          "text": [
            "300\n",
            "(16000, 300)\n",
            "(2000, 300)\n",
            "(2000, 300)\n"
          ]
        }
      ],
      "source": [
        "df_train['length'] = [len(x) for x in df_train['Text']]\n",
        "max_len=df_train['length'].max()\n",
        "print(max_len)\n",
        "x_train = text_cleaning(df_train, \"Text\")\n",
        "x_test = text_cleaning(df_test, \"Text\")\n",
        "x_val = text_cleaning(df_validation, \"Text\")"
      ]
    },
    {
      "cell_type": "code",
      "execution_count": 11,
      "metadata": {
        "id": "JkTsSg9gZte1"
      },
      "outputs": [],
      "source": [
        "y_train = df_train[\"Emotion\"]\n",
        "y_test = df_test[\"Emotion\"]\n",
        "y_val = df_validation[\"Emotion\"]"
      ]
    },
    {
      "cell_type": "code",
      "execution_count": 12,
      "metadata": {
        "id": "2eck89L6Z8cD"
      },
      "outputs": [],
      "source": [
        "y_train = to_categorical(y_train)\n",
        "y_test = to_categorical(y_test)\n",
        "y_val = to_categorical(y_val)"
      ]
    },
    {
      "cell_type": "code",
      "execution_count": null,
      "metadata": {
        "id": "s97KlMcvaASY"
      },
      "outputs": [],
      "source": [
        "model = Sequential()\n",
        "model.add(Embedding(input_dim=vocabSize,output_dim=150,input_length=300))\n",
        "model.add(Dropout(0.2))\n",
        "model.add(LSTM(128))\n",
        "model.add(Dropout(0.2))\n",
        "model.add(Dense(64,activation='sigmoid'))\n",
        "model.add(Dropout(0.2))\n",
        "model.add(Dense(6,activation='softmax'))"
      ]
    },
    {
      "cell_type": "code",
      "execution_count": null,
      "metadata": {
        "colab": {
          "base_uri": "https://localhost:8080/"
        },
        "id": "Jxlda1BXaFIk",
        "outputId": "a0dec47b-f91e-4e45-838c-d7fd644079b0"
      },
      "outputs": [
        {
          "name": "stdout",
          "output_type": "stream",
          "text": [
            "Model: \"sequential\"\n",
            "_________________________________________________________________\n",
            " Layer (type)                Output Shape              Param #   \n",
            "=================================================================\n",
            " embedding (Embedding)       (None, 300, 150)          1650000   \n",
            "                                                                 \n",
            " dropout (Dropout)           (None, 300, 150)          0         \n",
            "                                                                 \n",
            " lstm (LSTM)                 (None, 128)               142848    \n",
            "                                                                 \n",
            " dropout_1 (Dropout)         (None, 128)               0         \n",
            "                                                                 \n",
            " dense (Dense)               (None, 64)                8256      \n",
            "                                                                 \n",
            " dropout_2 (Dropout)         (None, 64)                0         \n",
            "                                                                 \n",
            " dense_1 (Dense)             (None, 6)                 390       \n",
            "                                                                 \n",
            "=================================================================\n",
            "Total params: 1,801,494\n",
            "Trainable params: 1,801,494\n",
            "Non-trainable params: 0\n",
            "_________________________________________________________________\n"
          ]
        }
      ],
      "source": [
        "model.compile(optimizer='adam',loss='categorical_crossentropy',metrics=['accuracy'])\n",
        "model.summary()"
      ]
    },
    {
      "cell_type": "code",
      "execution_count": null,
      "metadata": {
        "id": "pjeQu7-NaJ7B"
      },
      "outputs": [],
      "source": [
        "callback = EarlyStopping(monitor=\"val_loss\", patience=2, restore_best_weights=True)"
      ]
    },
    {
      "cell_type": "code",
      "execution_count": null,
      "metadata": {
        "colab": {
          "background_save": true,
          "base_uri": "https://localhost:8080/"
        },
        "id": "skSUfYmEaQ5T",
        "outputId": "600209e4-9263-45c2-c14b-f0f80e8a203e"
      },
      "outputs": [
        {
          "name": "stdout",
          "output_type": "stream",
          "text": [
            "Epoch 1/10\n",
            "250/250 [==============================] - 204s 807ms/step - loss: 1.3672 - accuracy: 0.4754 - val_loss: 0.8099 - val_accuracy: 0.7370\n",
            "Epoch 2/10\n",
            "250/250 [==============================] - 188s 751ms/step - loss: 0.5573 - accuracy: 0.8157 - val_loss: 0.3982 - val_accuracy: 0.8655\n",
            "Epoch 3/10\n",
            "250/250 [==============================] - 187s 748ms/step - loss: 0.2822 - accuracy: 0.9079 - val_loss: 0.3360 - val_accuracy: 0.8835\n",
            "Epoch 4/10\n",
            "250/250 [==============================] - 187s 746ms/step - loss: 0.2052 - accuracy: 0.9310 - val_loss: 0.3439 - val_accuracy: 0.8850\n",
            "Epoch 5/10\n",
            "250/250 [==============================] - 187s 747ms/step - loss: 0.1619 - accuracy: 0.9420 - val_loss: 0.3422 - val_accuracy: 0.8790\n"
          ]
        }
      ],
      "source": [
        "hist = model.fit(x_train,y_train,epochs=10,batch_size=64,\n",
        "                 validation_data=(x_val,y_val), verbose=1, callbacks=[callback])"
      ]
    },
    {
      "cell_type": "code",
      "execution_count": null,
      "metadata": {
        "colab": {
          "base_uri": "https://localhost:8080/"
        },
        "id": "oZ-dXY66aX2z",
        "outputId": "e792e0cb-1a80-440d-a7c1-2a860254e54a"
      },
      "outputs": [
        {
          "name": "stdout",
          "output_type": "stream",
          "text": [
            "63/63 [==============================] - 7s 109ms/step - loss: 0.3399 - accuracy: 0.8900\n"
          ]
        },
        {
          "data": {
            "text/plain": [
              "[0.3399337828159332, 0.8899999856948853]"
            ]
          },
          "execution_count": 17,
          "metadata": {},
          "output_type": "execute_result"
        }
      ],
      "source": [
        "model.evaluate(x_val,y_val,verbose=1)\n"
      ]
    },
    {
      "cell_type": "code",
      "execution_count": null,
      "metadata": {
        "colab": {
          "base_uri": "https://localhost:8080/"
        },
        "id": "J-WDWqDbaZt3",
        "outputId": "9fbfc507-bbbe-49f9-c8d3-2ddcddfaf9d4"
      },
      "outputs": [
        {
          "name": "stdout",
          "output_type": "stream",
          "text": [
            "63/63 [==============================] - 5s 78ms/step - loss: 0.3418 - accuracy: 0.8840\n"
          ]
        },
        {
          "data": {
            "text/plain": [
              "[0.34180304408073425, 0.8840000033378601]"
            ]
          },
          "execution_count": 18,
          "metadata": {},
          "output_type": "execute_result"
        }
      ],
      "source": [
        "model.evaluate(x_test,y_test,verbose=1)\n"
      ]
    },
    {
      "cell_type": "code",
      "execution_count": null,
      "metadata": {
        "colab": {
          "base_uri": "https://localhost:8080/",
          "height": 17
        },
        "id": "vn15MlS_lGBZ",
        "outputId": "51cb0152-d083-41fc-c8b7-fcdfbf2e7bb3"
      },
      "outputs": [
        {
          "data": {
            "application/javascript": [
              "\n",
              "    async function download(id, filename, size) {\n",
              "      if (!google.colab.kernel.accessAllowed) {\n",
              "        return;\n",
              "      }\n",
              "      const div = document.createElement('div');\n",
              "      const label = document.createElement('label');\n",
              "      label.textContent = `Downloading \"${filename}\": `;\n",
              "      div.appendChild(label);\n",
              "      const progress = document.createElement('progress');\n",
              "      progress.max = size;\n",
              "      div.appendChild(progress);\n",
              "      document.body.appendChild(div);\n",
              "\n",
              "      const buffers = [];\n",
              "      let downloaded = 0;\n",
              "\n",
              "      const channel = await google.colab.kernel.comms.open(id);\n",
              "      // Send a message to notify the kernel that we're ready.\n",
              "      channel.send({})\n",
              "\n",
              "      for await (const message of channel.messages) {\n",
              "        // Send a message to notify the kernel that we're ready.\n",
              "        channel.send({})\n",
              "        if (message.buffers) {\n",
              "          for (const buffer of message.buffers) {\n",
              "            buffers.push(buffer);\n",
              "            downloaded += buffer.byteLength;\n",
              "            progress.value = downloaded;\n",
              "          }\n",
              "        }\n",
              "      }\n",
              "      const blob = new Blob(buffers, {type: 'application/binary'});\n",
              "      const a = document.createElement('a');\n",
              "      a.href = window.URL.createObjectURL(blob);\n",
              "      a.download = filename;\n",
              "      div.appendChild(a);\n",
              "      a.click();\n",
              "      div.remove();\n",
              "    }\n",
              "  "
            ],
            "text/plain": [
              "<IPython.core.display.Javascript object>"
            ]
          },
          "metadata": {},
          "output_type": "display_data"
        },
        {
          "data": {
            "application/javascript": [
              "download(\"download_8e860a0d-48f1-44e5-a091-d65686020504\", \"model_emotion_recognition.h5\", 21665536)"
            ],
            "text/plain": [
              "<IPython.core.display.Javascript object>"
            ]
          },
          "metadata": {},
          "output_type": "display_data"
        }
      ],
      "source": [
        "\n",
        "model_name = 'model_emotion_recognition'\n",
        "model_name_ = model_name + '.h5'\n",
        "\n",
        "model.save( model_name_ )\n",
        "files.download( model_name_ ) "
      ]
    },
    {
      "cell_type": "code",
      "execution_count": null,
      "metadata": {
        "id": "kqm84S93uJ_o"
      },
      "outputs": [],
      "source": [
        "from tensorflow import keras"
      ]
    },
    {
      "cell_type": "code",
      "execution_count": null,
      "metadata": {
        "id": "wjnwvgMruD8l"
      },
      "outputs": [],
      "source": [
        "reconstructed_model = keras.models.load_model(\"model_emotion_recognition.h5\")"
      ]
    },
    {
      "cell_type": "code",
      "execution_count": 14,
      "metadata": {
        "id": "bEJbxcbspEUq"
      },
      "outputs": [],
      "source": [
        "\n",
        "converter = tf.lite.TFLiteConverter.from_keras_model(model)\n",
        "# converter.optimizations = [ tf.lite.Optimize.DEFAULT ]\n",
        "# converter.target_spec.supported_types = [ tf.float16 ]\n",
        "converter.target_spec.supported_ops = [tf.lite.OpsSet.TFLITE_BUILTINS, tf.lite.OpsSet.SELECT_TF_OPS]\n",
        "converter._experimental_lower_tensor_list_ops = False\n",
        "buffer = converter.convert()\n",
        "\n",
        "open( '{}_q.tflite'.format( model_name ) , 'wb' ).write( buffer )\n",
        "files.download( '{}_q.tflite'.format( model_name ))\n"
      ]
    },
    {
      "cell_type": "code",
      "execution_count": 15,
      "metadata": {
        "id": "n3j9bqhMmxW-"
      },
      "outputs": [],
      "source": [
        "# converter = tf.compat.v1.lite.TFLiteConverter.from_keras_model_file('models/model.h5')\n",
        "converter.post_training_quantize = True\n",
        "# tflite_buffer = converter.convert()\n",
        "# open( 'android/model.tflite' , 'wb' ).write( tflite_buffer )"
      ]
    },
    {
      "cell_type": "code",
      "execution_count": null,
      "metadata": {
        "id": "zZZ9c89damI7"
      },
      "outputs": [],
      "source": [
        "accuracy = hist.history['accuracy']\n"
      ]
    },
    {
      "cell_type": "code",
      "execution_count": null,
      "metadata": {
        "colab": {
          "background_save": true
        },
        "id": "4iBErXECa9Oe"
      },
      "outputs": [],
      "source": [
        "def sentence_cleaning(sentence):\n",
        "    stemmer = PorterStemmer()\n",
        "    corpus = []\n",
        "    text = re.sub(\"[^a-zA-Z]\", \" \", sentenlece)\n",
        "    text = text.lower()\n",
        "    text = text.split()\n",
        "    text = [stemmer.stem(word) for word in text if word not in stopwords]\n",
        "    text = \" \".join(text)\n",
        "    corpus.append(text)\n",
        "    print(corpus)\n",
        "    one_hot_word = [one_hot(input_text=word, n=vocabSize) for word in corpus]\n",
        "    print(one_hot_word)\n",
        "    pad = pad_sequences(sequences=one_hot_word,maxlen=max_len,padding='pre')\n",
        "    print(pad)\n",
        "    return pad"
      ]
    },
    {
      "cell_type": "code",
      "execution_count": 16,
      "metadata": {
        "id": "CsSmguU2jjwi"
      },
      "outputs": [],
      "source": [
        "# model.predict(sentence_cleaning(\"He is really sweet and caring\"))"
      ]
    },
    {
      "cell_type": "code",
      "execution_count": null,
      "metadata": {
        "colab": {
          "base_uri": "https://localhost:8080/"
        },
        "id": "zdDDzGsebBCC",
        "outputId": "7de182b6-4221-419d-b6a5-6174bff76e2b"
      },
      "outputs": [
        {
          "name": "stdout",
          "output_type": "stream",
          "text": [
            "He is really sweet and carin\n",
            "love : [[0.05524119 0.01878206 0.4017081  0.47265777 0.0304121  0.02119883]]\n",
            "\n",
            "\n",
            "This is outrageous, how can you talk like that?\n",
            "anger : [[0.77247286 0.14743698 0.00844837 0.00147899 0.06255452 0.00760833]]\n",
            "\n",
            "\n",
            "asddddddddddddddddddddddddddddddd\n",
            "fear : [[0.31491187 0.51368916 0.01619879 0.00112034 0.14584391 0.00823602]]\n",
            "\n",
            "\n",
            "He is really sweet and caring\n",
            "love : [[0.01005264 0.00111309 0.08044285 0.89178646 0.00113596 0.01546905]]\n",
            "\n",
            "\n"
          ]
        }
      ],
      "source": [
        "sentences = [\n",
        "            \"He is really sweet and carin\",\n",
        "            \"This is outrageous, how can you talk like that?\",\n",
        "            \"asddddddddddddddddddddddddddddddd\",\n",
        "            \"He is really sweet and caring\"\n",
        "            ]\n",
        "for sentence in sentences:\n",
        "      print(sentence)\n",
        "      sentence = sentence_cleaning(sentence)\n",
        "      result = lb.inverse_transform(np.argmax(model.predict(sentence), axis=-1))[0]\n",
        "      proba =  model.predict(sentence)\n",
        "      print(f\"{result} : {proba}\\n\\n\")\n",
        "# print(result)"
      ]
    },
    {
      "cell_type": "code",
      "execution_count": null,
      "metadata": {
        "id": "5B1xdKwSOqef"
      },
      "outputs": [],
      "source": [
        ""
      ]
    }
  ],
  "metadata": {
    "colab": {
      "name": "emotion_recognition.ipynb",
      "provenance": []
    },
    "kernelspec": {
      "display_name": "Python 3",
      "name": "python3"
    },
    "language_info": {
      "name": "python"
    }
  },
  "nbformat": 4,
  "nbformat_minor": 0
}